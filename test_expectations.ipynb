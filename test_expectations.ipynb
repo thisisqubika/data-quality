{
 "cells": [
  {
   "cell_type": "code",
   "execution_count": 1,
   "metadata": {},
   "outputs": [
    {
     "name": "stdout",
     "output_type": "stream",
     "text": [
      "     A    B     C          D\n",
      "0  1.1  4.4  HOLA 1956-01-01\n",
      "1  2.2  5.5       2029-01-01\n",
      "2  3.3  6.6       2014-01-01\n",
      "3  1.0  1.0    21 2004-01-01\n"
     ]
    }
   ],
   "source": [
    "import great_expectations as ge\n",
    "import pandas as pd\n",
    "\n",
    "# Creating the DataFrame with date conversion in 'C' column\n",
    "df_asset = ge.from_pandas(\n",
    "    pd.DataFrame({\n",
    "        'A': [1.1, 2.2, 3.3, 1],\n",
    "        'B': [4.4, 5.5, 6.6, 1],\n",
    "        'C': [\"HOLA\",\"\",\" \",\"21\"],\n",
    "        'D': pd.to_datetime(['1/1/1956', '1/1/2029', '1/1/2014', '1/1/2004'], format='%m/%d/%Y')\n",
    "    })\n",
    ")\n",
    "\n",
    "print(df_asset)\n",
    "\n"
   ]
  },
  {
   "cell_type": "code",
   "execution_count": 2,
   "metadata": {},
   "outputs": [
    {
     "data": {
      "text/plain": [
       "{\n",
       "  \"success\": false,\n",
       "  \"result\": {\n",
       "    \"element_count\": 4,\n",
       "    \"missing_count\": 0,\n",
       "    \"missing_percent\": 0.0,\n",
       "    \"unexpected_count\": 4,\n",
       "    \"unexpected_percent\": 100.0,\n",
       "    \"unexpected_percent_total\": 100.0,\n",
       "    \"unexpected_percent_nonmissing\": 100.0,\n",
       "    \"partial_unexpected_list\": [\n",
       "      1.1,\n",
       "      2.2,\n",
       "      3.3,\n",
       "      1.0\n",
       "    ]\n",
       "  },\n",
       "  \"meta\": {},\n",
       "  \"exception_info\": {\n",
       "    \"raised_exception\": false,\n",
       "    \"exception_traceback\": null,\n",
       "    \"exception_message\": null\n",
       "  }\n",
       "}"
      ]
     },
     "execution_count": 2,
     "metadata": {},
     "output_type": "execute_result"
    }
   ],
   "source": [
    "df_asset.expect_column_values_to_be_in_set('A',[\"Male\", \"Prefer Not To Identify\", \"Non-binary\", \"P\", \"F\", \"N\", \"M\", \"Female\",\"m\"])"
   ]
  }
 ],
 "metadata": {
  "kernelspec": {
   "display_name": "gx-snowflake-bV037mNw-py3.10",
   "language": "python",
   "name": "python3"
  },
  "language_info": {
   "codemirror_mode": {
    "name": "ipython",
    "version": 3
   },
   "file_extension": ".py",
   "mimetype": "text/x-python",
   "name": "python",
   "nbconvert_exporter": "python",
   "pygments_lexer": "ipython3",
   "version": "3.10.13"
  },
  "orig_nbformat": 4
 },
 "nbformat": 4,
 "nbformat_minor": 2
}
